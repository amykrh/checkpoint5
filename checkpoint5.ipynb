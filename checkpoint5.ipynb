{
 "cells": [
  {
   "cell_type": "code",
   "execution_count": 18,
   "id": "842b2722",
   "metadata": {},
   "outputs": [],
   "source": [
    "class point3D:\n",
    "    def __init__(self,x,y,z):\n",
    "        self.x=x\n",
    "        self.y=y\n",
    "        self.z=z\n",
    "    def show(self):\n",
    "        return(self.x,self.y,self.z)"
   ]
  },
  {
   "cell_type": "code",
   "execution_count": 53,
   "id": "8093fbdf",
   "metadata": {},
   "outputs": [],
   "source": [
    "my_point=point3D(4,5,9)"
   ]
  },
  {
   "cell_type": "code",
   "execution_count": 54,
   "id": "17841b57",
   "metadata": {},
   "outputs": [
    {
     "data": {
      "text/plain": [
       "(4, 5, 9)"
      ]
     },
     "execution_count": 54,
     "metadata": {},
     "output_type": "execute_result"
    }
   ],
   "source": [
    "my_point.show()"
   ]
  },
  {
   "cell_type": "code",
   "execution_count": 78,
   "id": "8654b64d",
   "metadata": {},
   "outputs": [],
   "source": [
    "class rectangle:\n",
    "    def __init__(self,length,width):\n",
    "        self.length=length\n",
    "        self.width=width\n",
    "    def area(self):\n",
    "        area=int(self.length)*int(self.width)\n",
    "        print(area)\n",
    "    def perimeter(self):\n",
    "        perimeter=(int(self.length)+int(self.width))*2\n",
    "        print(perimeter)"
   ]
  },
  {
   "cell_type": "code",
   "execution_count": 80,
   "id": "6756dcb2",
   "metadata": {},
   "outputs": [],
   "source": [
    "my_rectangle=rectangle(3,4)"
   ]
  },
  {
   "cell_type": "code",
   "execution_count": 65,
   "id": "4302825e",
   "metadata": {},
   "outputs": [
    {
     "name": "stdout",
     "output_type": "stream",
     "text": [
      "12\n"
     ]
    }
   ],
   "source": [
    "my_rectangle.area()"
   ]
  },
  {
   "cell_type": "code",
   "execution_count": 81,
   "id": "987092e7",
   "metadata": {},
   "outputs": [
    {
     "name": "stdout",
     "output_type": "stream",
     "text": [
      "14\n"
     ]
    }
   ],
   "source": [
    "my_rectangle.perimeter()"
   ]
  },
  {
   "cell_type": "code",
   "execution_count": 137,
   "id": "479486c6",
   "metadata": {},
   "outputs": [],
   "source": [
    "from math import pi\n",
    "class circle:\n",
    "    def __init__(self,o,r):\n",
    "        self.o=o\n",
    "        self.r=r\n",
    "    def area(self):\n",
    "        area=int(self.r)*int(self.r)*pi\n",
    "        print(area)\n",
    "    def perimeter(self):\n",
    "        perimeter=pi*int(self.r)\n",
    "        print(perimeter)\n",
    "    def isinside(self,x,y):\n",
    "    \n",
    "        s=(x*x+y*y)\n",
    "        if s==self.r*self.r:\n",
    "            print(\"a is inside\")\n",
    "        else:\n",
    "            print(\"a is outside\")\n",
    "        \n",
    "    \n",
    "        "
   ]
  },
  {
   "cell_type": "code",
   "execution_count": 138,
   "id": "1b8da8bd",
   "metadata": {},
   "outputs": [
    {
     "name": "stdout",
     "output_type": "stream",
     "text": [
      "12.566370614359172\n",
      "6.283185307179586\n",
      "a is inside\n"
     ]
    }
   ],
   "source": [
    "one=circle(0,2)\n",
    "one.area()\n",
    "one.perimeter()\n",
    "one.isinside(2,0)"
   ]
  },
  {
   "cell_type": "code",
   "execution_count": 11,
   "id": "003b2fec",
   "metadata": {},
   "outputs": [
    {
     "name": "stdout",
     "output_type": "stream",
     "text": [
      "6000\n",
      "3000\n"
     ]
    }
   ],
   "source": [
    "class bank:\n",
    "    def __init__(self,balance):\n",
    "        self.balance=balance\n",
    "    def deposit(self,deposit):\n",
    "        amount=self.balance+deposit\n",
    "        print(amount)\n",
    "    def withdraw(self,withdraw):\n",
    "        amount=self.balance-withdraw\n",
    "        print(amount)\n",
    "amy=bank(5000)\n",
    "amy.deposit(1000)\n",
    "amy.withdraw(2000)\n"
   ]
  },
  {
   "cell_type": "code",
   "execution_count": null,
   "id": "ca27978b",
   "metadata": {},
   "outputs": [],
   "source": []
  }
 ],
 "metadata": {
  "kernelspec": {
   "display_name": "Python 3 (ipykernel)",
   "language": "python",
   "name": "python3"
  },
  "language_info": {
   "codemirror_mode": {
    "name": "ipython",
    "version": 3
   },
   "file_extension": ".py",
   "mimetype": "text/x-python",
   "name": "python",
   "nbconvert_exporter": "python",
   "pygments_lexer": "ipython3",
   "version": "3.9.7"
  }
 },
 "nbformat": 4,
 "nbformat_minor": 5
}
